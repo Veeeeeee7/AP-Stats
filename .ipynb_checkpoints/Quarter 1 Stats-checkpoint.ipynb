{
 "cells": [
  {
   "cell_type": "code",
   "execution_count": 18,
   "id": "a0f8f83b",
   "metadata": {},
   "outputs": [
    {
     "name": "stdout",
     "output_type": "stream",
     "text": [
      "To the nearest dollar, what is the maximum you would spend for a truly GREAT haircut?  (Just give the number! No units)\n",
      "How would you describe your own political affiliation?\n"
     ]
    }
   ],
   "source": [
    "import pandas as pd\n",
    "\n",
    "df = pd.read_csv('data.csv')\n",
    "\n",
    "print(df.columns[9]) \n",
    "print(df.columns[22])"
   ]
  },
  {
   "cell_type": "code",
   "execution_count": 10,
   "id": "a54e0abf",
   "metadata": {},
   "outputs": [
    {
     "name": "stdout",
     "output_type": "stream",
     "text": [
      "0     100\n",
      "1     100\n",
      "2      50\n",
      "3      60\n",
      "4     100\n",
      "     ... \n",
      "76    150\n",
      "77    200\n",
      "78    100\n",
      "79    150\n",
      "80    100\n",
      "Name: To the nearest dollar, what is the maximum you would spend for a truly GREAT haircut?  (Just give the number! No units), Length: 81, dtype: int64\n"
     ]
    }
   ],
   "source": [
    "haircut = df[\"To the nearest dollar, what is the maximum you would spend for a truly GREAT haircut?  (Just give the number! No units)\"]\n",
    "print(haircut)"
   ]
  },
  {
   "cell_type": "code",
   "execution_count": 19,
   "id": "0a98919e",
   "metadata": {},
   "outputs": [
    {
     "name": "stdout",
     "output_type": "stream",
     "text": [
      "0             center\n",
      "1     left of center\n",
      "2     left of center\n",
      "3             center\n",
      "4     left of center\n",
      "           ...      \n",
      "76    left of center\n",
      "77          far left\n",
      "78            center\n",
      "79    left of center\n",
      "80          far left\n",
      "Name: How would you describe your own political affiliation?, Length: 81, dtype: object\n"
     ]
    }
   ],
   "source": [
    "political_affiliation = df[\"How would you describe your own political affiliation?\"]\n",
    "print(political_affiliation)"
   ]
  },
  {
   "cell_type": "code",
   "execution_count": 26,
   "id": "1d712707",
   "metadata": {},
   "outputs": [
    {
     "data": {
      "text/html": [
       "<div>\n",
       "<style scoped>\n",
       "    .dataframe tbody tr th:only-of-type {\n",
       "        vertical-align: middle;\n",
       "    }\n",
       "\n",
       "    .dataframe tbody tr th {\n",
       "        vertical-align: top;\n",
       "    }\n",
       "\n",
       "    .dataframe thead th {\n",
       "        text-align: right;\n",
       "    }\n",
       "</style>\n",
       "<table border=\"1\" class=\"dataframe\">\n",
       "  <thead>\n",
       "    <tr style=\"text-align: right;\">\n",
       "      <th></th>\n",
       "      <th>How would you describe your own political affiliation?</th>\n",
       "    </tr>\n",
       "    <tr>\n",
       "      <th>To the nearest dollar, what is the maximum you would spend for a truly GREAT haircut?  (Just give the number! No units)</th>\n",
       "      <th></th>\n",
       "    </tr>\n",
       "  </thead>\n",
       "  <tbody>\n",
       "    <tr>\n",
       "      <th>100</th>\n",
       "      <td>NaN</td>\n",
       "    </tr>\n",
       "    <tr>\n",
       "      <th>100</th>\n",
       "      <td>NaN</td>\n",
       "    </tr>\n",
       "    <tr>\n",
       "      <th>50</th>\n",
       "      <td>right of center</td>\n",
       "    </tr>\n",
       "    <tr>\n",
       "      <th>60</th>\n",
       "      <td>right of center</td>\n",
       "    </tr>\n",
       "    <tr>\n",
       "      <th>100</th>\n",
       "      <td>NaN</td>\n",
       "    </tr>\n",
       "    <tr>\n",
       "      <th>...</th>\n",
       "      <td>...</td>\n",
       "    </tr>\n",
       "    <tr>\n",
       "      <th>150</th>\n",
       "      <td>NaN</td>\n",
       "    </tr>\n",
       "    <tr>\n",
       "      <th>200</th>\n",
       "      <td>NaN</td>\n",
       "    </tr>\n",
       "    <tr>\n",
       "      <th>100</th>\n",
       "      <td>NaN</td>\n",
       "    </tr>\n",
       "    <tr>\n",
       "      <th>150</th>\n",
       "      <td>NaN</td>\n",
       "    </tr>\n",
       "    <tr>\n",
       "      <th>100</th>\n",
       "      <td>NaN</td>\n",
       "    </tr>\n",
       "  </tbody>\n",
       "</table>\n",
       "<p>81 rows × 1 columns</p>\n",
       "</div>"
      ],
      "text/plain": [
       "                                                   How would you describe your own political affiliation?\n",
       "To the nearest dollar, what is the maximum you ...                                                       \n",
       "100                                                                                               NaN    \n",
       "100                                                                                               NaN    \n",
       "50                                                                                    right of center    \n",
       "60                                                                                    right of center    \n",
       "100                                                                                               NaN    \n",
       "...                                                                                               ...    \n",
       "150                                                                                               NaN    \n",
       "200                                                                                               NaN    \n",
       "100                                                                                               NaN    \n",
       "150                                                                                               NaN    \n",
       "100                                                                                               NaN    \n",
       "\n",
       "[81 rows x 1 columns]"
      ]
     },
     "execution_count": 26,
     "metadata": {},
     "output_type": "execute_result"
    }
   ],
   "source": [
    "data = pd.DataFrame(political_affiliation, haircut)\n",
    "data"
   ]
  },
  {
   "cell_type": "code",
   "execution_count": 29,
   "id": "ec8c65ec",
   "metadata": {},
   "outputs": [
    {
     "data": {
      "text/plain": [
       "'center'"
      ]
     },
     "execution_count": 29,
     "metadata": {},
     "output_type": "execute_result"
    }
   ],
   "source": []
  }
 ],
 "metadata": {
  "kernelspec": {
   "display_name": "Python 3 (ipykernel)",
   "language": "python",
   "name": "python3"
  },
  "language_info": {
   "codemirror_mode": {
    "name": "ipython",
    "version": 3
   },
   "file_extension": ".py",
   "mimetype": "text/x-python",
   "name": "python",
   "nbconvert_exporter": "python",
   "pygments_lexer": "ipython3",
   "version": "3.9.7"
  }
 },
 "nbformat": 4,
 "nbformat_minor": 5
}
