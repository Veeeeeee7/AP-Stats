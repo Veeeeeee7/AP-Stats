{
 "cells": [
  {
   "cell_type": "code",
   "execution_count": 2,
   "id": "926e6b7e",
   "metadata": {},
   "outputs": [],
   "source": [
    "import pandas as pd\n",
    "import numpy as np\n",
    "import matplotlib.pyplot as plt\n",
    "from scipy import stats"
   ]
  },
  {
   "cell_type": "code",
   "execution_count": 3,
   "id": "a0f8f83b",
   "metadata": {},
   "outputs": [
    {
     "name": "stdout",
     "output_type": "stream",
     "text": [
      "To the nearest dollar, what is the maximum you would spend for a truly GREAT haircut?  (Just give the number! No units)\n",
      "How would you describe the political affiliation of your parents?\n"
     ]
    }
   ],
   "source": [
    "df = pd.read_csv('data.csv')\n",
    "\n",
    "print(df.columns[9]) \n",
    "print(df.columns[21])"
   ]
  },
  {
   "cell_type": "code",
   "execution_count": 4,
   "id": "a54e0abf",
   "metadata": {},
   "outputs": [
    {
     "name": "stdout",
     "output_type": "stream",
     "text": [
      "0     100\n",
      "1     100\n",
      "2      50\n",
      "3      60\n",
      "4     100\n",
      "     ... \n",
      "76    150\n",
      "77    200\n",
      "78    100\n",
      "79    150\n",
      "80    100\n",
      "Name: To the nearest dollar, what is the maximum you would spend for a truly GREAT haircut?  (Just give the number! No units), Length: 81, dtype: int64\n"
     ]
    }
   ],
   "source": [
    "haircut = df[\"To the nearest dollar, what is the maximum you would spend for a truly GREAT haircut?  (Just give the number! No units)\"]\n",
    "print(haircut)"
   ]
  },
  {
   "cell_type": "code",
   "execution_count": 5,
   "id": "0a98919e",
   "metadata": {},
   "outputs": [
    {
     "name": "stdout",
     "output_type": "stream",
     "text": [
      "0              center\n",
      "1              center\n",
      "2              center\n",
      "3      left of center\n",
      "4      left of center\n",
      "           ...       \n",
      "76     left of center\n",
      "77           far left\n",
      "78    right of center\n",
      "79     left of center\n",
      "80             center\n",
      "Name: How would you describe the political affiliation of your parents?, Length: 81, dtype: object\n"
     ]
    }
   ],
   "source": [
    "political_affiliation = df[\"How would you describe the political affiliation of your parents?\"]\n",
    "print(political_affiliation)"
   ]
  },
  {
   "cell_type": "code",
   "execution_count": 6,
   "id": "1d712707",
   "metadata": {},
   "outputs": [
    {
     "name": "stdout",
     "output_type": "stream",
     "text": [
      "left:\n",
      "[ 60 100  20  33  30  50 100  50 250  50  45 200 100  60 300  45 100 150\n",
      " 300 140 300 100  40 100   0  50 100  30  40 200  50   0  50  60 100 150\n",
      " 200 150]\n",
      "\n",
      "center:\n",
      "[100 100  50  80 100 100  80  90  35  60  85  20  60  60 120 200 200  40\n",
      "  80  30  50  40  70  90  35  60 100]\n",
      "\n",
      "right:\n",
      "[ 25  60 110  50 120 500  25  25 115 200  70 200  50 100 100]\n"
     ]
    }
   ],
   "source": [
    "left = np.array([])\n",
    "for i in range(80):\n",
    "    if (political_affiliation[i] == \"far left\"):\n",
    "        left = np.append(left, int(haircut[i]))\n",
    "    if (political_affiliation[i] == \"left of center\"):\n",
    "        left = np.append(left, int(haircut[i]))\n",
    "left = left.astype('int32')\n",
    "\n",
    "center = np.array([])\n",
    "for i in range(80):\n",
    "    if (political_affiliation[i] == \"center\"):\n",
    "        center = np.append(center, int(haircut[i]))\n",
    "center = center.astype('int32')\n",
    "right = np.array([])\n",
    "for i in range(80):\n",
    "    if (political_affiliation[i] == \"right of center\"):\n",
    "        right = np.append(right, int(haircut[i]))\n",
    "    if (political_affiliation[i] == \"far right\"):\n",
    "        right = np.append(right, int(haircut[i]))\n",
    "right = right.astype('int32')\n",
    "\n",
    "print(\"left:\")\n",
    "print(left)\n",
    "print(\"\\ncenter:\")\n",
    "print(center)\n",
    "print(\"\\nright:\")\n",
    "print(right)"
   ]
  },
  {
   "cell_type": "code",
   "execution_count": 7,
   "id": "ec8c65ec",
   "metadata": {},
   "outputs": [],
   "source": [
    "def dot_diagram(dataset, title):\n",
    "    values, counts = np.unique(dataset, return_counts=True)\n",
    "    width = 10\n",
    "    height = 1\n",
    "    marker_size = 3\n",
    "    fig, ax = plt.subplots(figsize=(width, height))\n",
    "    for value, count in zip(values, counts):\n",
    "        ax.plot([value]*count, list(range(count)), marker='o', color='tab:blue',\n",
    "                ms=marker_size, linestyle='')\n",
    "    for spine in ['top', 'right', 'left']:\n",
    "        ax.spines[spine].set_visible(False)\n",
    "    ax.yaxis.set_visible(False)\n",
    "    ax.set_ylim(-1, max(counts))\n",
    "    ax.set_xticks([0, 50, 100, 150, 200, 250, 300, 350, 400, 450, 500])\n",
    "    ax.set_xlabel(\"Price of Haircut ($)\")\n",
    "    ax.tick_params(axis='x', length=0, pad=10)\n",
    "    ax.set_title(title)\n",
    "\n",
    "def box_plot(dataset, title, labels):\n",
    "    fig = plt.figure(figsize =(10, 3))\n",
    "    ax = fig.add_subplot(111)\n",
    "    ax.boxplot(dataset, vert=0)\n",
    "    ax.set_yticklabels(labels)\n",
    "    ax.set_xlabel(\"Price of Haircut ($)\")\n",
    "    plt.title(title)\n",
    "    plt.show()"
   ]
  },
  {
   "cell_type": "code",
   "execution_count": 8,
   "id": "11234705",
   "metadata": {},
   "outputs": [
    {
     "data": {
      "image/png": "[encoded data removed]",
      "text/plain": [
       "<Figure size 720x72 with 1 Axes>"
      ]
     },
     "metadata": {
      "needs_background": "light"
     },
     "output_type": "display_data"
    },
    {
     "data": {
      "image/png": "[encoded data removed]",
      "text/plain": [
       "<Figure size 720x72 with 1 Axes>"
      ]
     },
     "metadata": {
      "needs_background": "light"
     },
     "output_type": "display_data"
    },
    {
     "data": {
      "image/png": "[encoded data removed]",
      "text/plain": [
       "<Figure size 720x72 with 1 Axes>"
      ]
     },
     "metadata": {
      "needs_background": "light"
     },
     "output_type": "display_data"
    }
   ],
   "source": [
    "dot_diagram(left, \"Distribution of Haircut Prices for Students with Parents Identifying as Left Leaning\")\n",
    "dot_diagram(center, \"Distribution of Haircut Prices for Students with Parents Identifying as Center\")\n",
    "dot_diagram(right, \"Distribution of Haircut Prices for Students with Parents Identifying as Right Leaning\")\n"
   ]
  },
  {
   "cell_type": "code",
   "execution_count": 9,
   "id": "61ac173a",
   "metadata": {},
   "outputs": [
    {
     "data": {
      "image/png": "[encoded data removed]",
      "text/plain": [
       "<Figure size 720x216 with 1 Axes>"
      ]
     },
     "metadata": {
      "needs_background": "light"
     },
     "output_type": "display_data"
    }
   ],
   "source": [
    "box_plot([left, center, right], \"Box Plots for the Distributions of Haircut Prices for Different Political Affiliations of Parents\", [\"Left\", \"Center\", \"Right\"])\n"
   ]
  },
  {
   "cell_type": "code",
   "execution_count": 23,
   "id": "8d7c138d",
   "metadata": {},
   "outputs": [
    {
     "data": {
      "image/png": "[encoded data removed]",
      "text/plain": [
       "<Figure size 432x288 with 1 Axes>"
      ]
     },
     "metadata": {
      "needs_background": "light"
     },
     "output_type": "display_data"
    }
   ],
   "source": [
    "def percentile_plot(dataset, title):\n",
    "    dataset = np.sort(dataset)\n",
    "    percentiles = np.array([])\n",
    "    data_points = np.array([])\n",
    "    for data in dataset:\n",
    "        percentiles = np.append(percentiles, stats.percentileofscore(dataset, data))\n",
    "        data_points = np.append(data_points, data)\n",
    "\n",
    "    plt.ylabel(\"Percentile (%)\")\n",
    "    plt.xlabel(\"Price of Haircut ($)\")\n",
    "    plt.title(title)\n",
    "    plt.plot(data_points, percentiles)\n",
    "    plt.show()\n",
    "\n",
    "percentile_plot(right, \"Percentile Plot of Students with Parents Identifying as Left Leaning\")"
   ]
  },
  {
   "cell_type": "code",
   "execution_count": 14,
   "id": "2dd22dce",
   "metadata": {},
   "outputs": [
    {
     "name": "stdout",
     "output_type": "stream",
     "text": [
      "Left Mean: 102.71052631578948\n",
      "Center Mean: 79.07407407407408\n",
      "Right Mean: 116.66666666666667\n"
     ]
    }
   ],
   "source": [
    "print(f'{\"Left Mean: \"}{left.mean()}')\n",
    "print(f'{\"Center Mean: \"}{center.mean()}')\n",
    "print(f'{\"Right Mean: \"}{right.mean()}')"
   ]
  },
  {
   "cell_type": "code",
   "execution_count": 15,
   "id": "3eda2a8f",
   "metadata": {},
   "outputs": [
    {
     "name": "stdout",
     "output_type": "stream",
     "text": [
      "Left Standard Deviation: 81.92740942756866\n",
      "Center Standard Deviation: 42.796612816753445\n",
      "Right Standard Deviation: 115.73917035971684\n"
     ]
    }
   ],
   "source": [
    "print(f'{\"Left Standard Deviation: \"}{np.std(left)}')\n",
    "print(f'{\"Center Standard Deviation: \"}{np.std(center)}')\n",
    "print(f'{\"Right Standard Deviation: \"}{np.std(right)}')"
   ]
  },
  {
   "cell_type": "code",
   "execution_count": 20,
   "id": "b616d153",
   "metadata": {},
   "outputs": [
    {
     "name": "stdout",
     "output_type": "stream",
     "text": [
      "Left Median: 80.0\n",
      "Center Median: 80.0\n",
      "Right Median: 100.0\n"
     ]
    }
   ],
   "source": [
    "print(f'{\"Left Median: \"}{np.median(left)}')\n",
    "print(f'{\"Center Median: \"}{np.median(center)}')\n",
    "print(f'{\"Right Median: \"}{np.median(right)}')"
   ]
  },
  {
   "cell_type": "code",
   "execution_count": 18,
   "id": "a21cdad1",
   "metadata": {},
   "outputs": [
    {
     "name": "stdout",
     "output_type": "stream",
     "text": [
      "Left IQR: 101.25\n",
      "Center IQR: 50.0\n",
      "Right IQR: 67.5\n"
     ]
    }
   ],
   "source": [
    "def IQR(dist):\n",
    "    return np.percentile(dist, 75) - np.percentile(dist, 25)\n",
    "\n",
    "print(f'{\"Left IQR: \"}{IQR(left)}')\n",
    "print(f'{\"Center IQR: \"}{IQR(center)}')\n",
    "print(f'{\"Right IQR: \"}{IQR(right)}')"
   ]
  },
  {
   "cell_type": "code",
   "execution_count": 21,
   "id": "99ee8108",
   "metadata": {},
   "outputs": [
    {
     "name": "stdout",
     "output_type": "stream",
     "text": [
      "Left Outliers: [300. 300. 300.]\n",
      "Center Outliers: [200. 200.]\n",
      "Right Outliers: [500.]\n"
     ]
    }
   ],
   "source": [
    "def get_outliers(dist):\n",
    "    iqr = IQR(dist)\n",
    "    outliers = np.array([])\n",
    "    for data in dist:\n",
    "        if data > (1.5 * iqr + np.percentile(dist, 75)) or data < (np.percentile(dist, 25) - 1.5 * iqr):\n",
    "            outliers = np.append(outliers, data)\n",
    "    return np.sort(outliers)\n",
    "\n",
    "print(f'{\"Left Outliers: \"}{get_outliers(left)}')\n",
    "print(f'{\"Center Outliers: \"}{get_outliers(center)}')\n",
    "print(f'{\"Right Outliers: \"}{get_outliers(right)}')"
   ]
  },
  {
   "cell_type": "code",
   "execution_count": 22,
   "id": "8860db7b",
   "metadata": {},
   "outputs": [
    {
     "data": {
      "image/png": "[encoded data removed]",
      "text/plain": [
       "<Figure size 720x72 with 1 Axes>"
      ]
     },
     "metadata": {
      "needs_background": "light"
     },
     "output_type": "display_data"
    }
   ],
   "source": [
    "dot_diagram(haircut, \"Distribution of Haircut Prices\")"
   ]
  }
 ],
 "metadata": {
  "kernelspec": {
   "display_name": "Python 3 (ipykernel)",
   "language": "python",
   "name": "python3"
  },
  "language_info": {
   "codemirror_mode": {
    "name": "ipython",
    "version": 3
   },
   "file_extension": ".py",
   "mimetype": "text/x-python",
   "name": "python",
   "nbconvert_exporter": "python",
   "pygments_lexer": "ipython3",
   "version": "3.9.7"
  }
 },
 "nbformat": 4,
 "nbformat_minor": 5
}
