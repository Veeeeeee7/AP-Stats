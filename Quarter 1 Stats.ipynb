{
 "cells": [
  {
   "cell_type": "code",
   "execution_count": 175,
   "id": "926e6b7e",
   "metadata": {},
   "outputs": [],
   "source": [
    "import pandas as pd\n",
    "import numpy as np\n",
    "import matplotlib.pyplot as plt"
   ]
  },
  {
   "cell_type": "code",
   "execution_count": 125,
   "id": "a0f8f83b",
   "metadata": {},
   "outputs": [
    {
     "name": "stdout",
     "output_type": "stream",
     "text": [
      "To the nearest dollar, what is the maximum you would spend for a truly GREAT haircut?  (Just give the number! No units)\n",
      "How would you describe the political affiliation of your parents?\n"
     ]
    }
   ],
   "source": [
    "df = pd.read_csv('data.csv')\n",
    "\n",
    "print(df.columns[9]) \n",
    "print(df.columns[21])"
   ]
  },
  {
   "cell_type": "code",
   "execution_count": 126,
   "id": "a54e0abf",
   "metadata": {},
   "outputs": [
    {
     "name": "stdout",
     "output_type": "stream",
     "text": [
      "0     100\n",
      "1     100\n",
      "2      50\n",
      "3      60\n",
      "4     100\n",
      "     ... \n",
      "76    150\n",
      "77    200\n",
      "78    100\n",
      "79    150\n",
      "80    100\n",
      "Name: To the nearest dollar, what is the maximum you would spend for a truly GREAT haircut?  (Just give the number! No units), Length: 81, dtype: int64\n"
     ]
    }
   ],
   "source": [
    "haircut = df[\"To the nearest dollar, what is the maximum you would spend for a truly GREAT haircut?  (Just give the number! No units)\"]\n",
    "print(haircut)"
   ]
  },
  {
   "cell_type": "code",
   "execution_count": 127,
   "id": "0a98919e",
   "metadata": {},
   "outputs": [
    {
     "name": "stdout",
     "output_type": "stream",
     "text": [
      "0              center\n",
      "1              center\n",
      "2              center\n",
      "3      left of center\n",
      "4      left of center\n",
      "           ...       \n",
      "76     left of center\n",
      "77           far left\n",
      "78    right of center\n",
      "79     left of center\n",
      "80             center\n",
      "Name: How would you describe the political affiliation of your parents?, Length: 81, dtype: object\n"
     ]
    }
   ],
   "source": [
    "political_affiliation = df[\"How would you describe the political affiliation of your parents?\"]\n",
    "print(political_affiliation)"
   ]
  },
  {
   "cell_type": "code",
   "execution_count": 270,
   "id": "1d712707",
   "metadata": {},
   "outputs": [
    {
     "name": "stdout",
     "output_type": "stream",
     "text": [
      "far left:\n",
      "[ 20 100 300 100 100  40 100 200]\n",
      "\n",
      "left of center:\n",
      "[ 60 100  33  30  50 100  50 250  50  45 200  60 300  45 100 150 140 300\n",
      "  40   0  50 100  30 200  50   0  50  60 150 150]\n",
      "\n",
      "center:\n",
      "[100 100  50  80 100 100  80  90  35  60  85  20  60  60 120 200 200  40\n",
      "  80  30  50  40  70  90  35  60 100]\n",
      "\n",
      "right of center:\n",
      "[ 25  60 110  50 120 500  25  25 115 200  50 100 100]\n",
      "\n",
      "far right:\n",
      "[ 70 200]\n"
     ]
    }
   ],
   "source": [
    "far_left = np.array([])\n",
    "for i in range(80):\n",
    "    if (political_affiliation[i] == \"far left\"):\n",
    "        far_left = np.append(far_left, int(haircut[i]))\n",
    "far_left = far_left.astype('int32')\n",
    "left_of_center = np.array([])\n",
    "for i in range(80):\n",
    "    if (political_affiliation[i] == \"left of center\"):\n",
    "        left_of_center = np.append(left_of_center, int(haircut[i]))\n",
    "left_of_center = left_of_center.astype('int32')\n",
    "center = np.array([])\n",
    "for i in range(80):\n",
    "    if (political_affiliation[i] == \"center\"):\n",
    "        center = np.append(center, int(haircut[i]))\n",
    "center = center.astype('int32')\n",
    "right_of_center = np.array([])\n",
    "for i in range(80):\n",
    "    if (political_affiliation[i] == \"right of center\"):\n",
    "        right_of_center = np.append(right_of_center, int(haircut[i]))\n",
    "right_of_center = right_of_center.astype('int32')\n",
    "far_right = np.array([])\n",
    "for i in range(80):\n",
    "    if (political_affiliation[i] == \"far right\"):\n",
    "        far_right = np.append(far_right, int(haircut[i]))\n",
    "far_right = far_right.astype('int32')\n",
    "\n",
    "print(\"far left:\")\n",
    "print(far_left)\n",
    "print(\"\\nleft of center:\")\n",
    "print(left_of_center)\n",
    "print(\"\\ncenter:\")\n",
    "print(center)\n",
    "print(\"\\nright of center:\")\n",
    "print(right_of_center)\n",
    "print(\"\\nfar right:\")\n",
    "print(far_right)"
   ]
  },
  {
   "cell_type": "code",
   "execution_count": 271,
   "id": "ec8c65ec",
   "metadata": {},
   "outputs": [],
   "source": [
    "def dot_diagram(dataset, title):\n",
    "    values, counts = np.unique(dataset, return_counts=True)\n",
    "    width = 25\n",
    "    height = 1\n",
    "    marker_size = 3\n",
    "    fig, ax = plt.subplots(figsize=(width, height))\n",
    "    for value, count in zip(values, counts):\n",
    "        ax.plot([value]*count, list(range(count)), marker='o', color='tab:blue',\n",
    "                ms=marker_size, linestyle='')\n",
    "    for spine in ['top', 'right', 'left']:\n",
    "        ax.spines[spine].set_visible(False)\n",
    "    ax.yaxis.set_visible(False)\n",
    "    ax.set_ylim(-1, max(counts))\n",
    "    ax.set_xticks([0, 50, 100, 150, 200, 250, 300, 350, 400, 450, 500])\n",
    "    ax.tick_params(axis='x', length=0, pad=10)\n",
    "    ax.set_xlabel(title)\n",
    "\n",
    "def box_plot(dataset, title, labels):\n",
    "    fig = plt.figure(figsize =(10, 3))\n",
    "    ax = fig.add_subplot(111)\n",
    "    ax.boxplot(dataset, vert=0)\n",
    "    ax.set_yticklabels(labels)\n",
    "    plt.title(title)\n",
    "    plt.show()"
   ]
  },
  {
   "cell_type": "code",
   "execution_count": 272,
   "id": "11234705",
   "metadata": {},
   "outputs": [
    {
     "data": {
      "image/png": "[encoded data removed]",
      "text/plain": [
       "<Figure size 1800x72 with 1 Axes>"
      ]
     },
     "metadata": {
      "needs_background": "light"
     },
     "output_type": "display_data"
    },
    {
     "data": {
      "image/png": "[encoded data removed]",
      "text/plain": [
       "<Figure size 1800x72 with 1 Axes>"
      ]
     },
     "metadata": {
      "needs_background": "light"
     },
     "output_type": "display_data"
    },
    {
     "data": {
      "image/png": "[encoded data removed]",
      "text/plain": [
       "<Figure size 1800x72 with 1 Axes>"
      ]
     },
     "metadata": {
      "needs_background": "light"
     },
     "output_type": "display_data"
    },
    {
     "data": {
      "image/png": "[encoded data removed]",
      "text/plain": [
       "<Figure size 1800x72 with 1 Axes>"
      ]
     },
     "metadata": {
      "needs_background": "light"
     },
     "output_type": "display_data"
    },
    {
     "data": {
      "image/png": "[encoded data removed]",
      "text/plain": [
       "<Figure size 1800x72 with 1 Axes>"
      ]
     },
     "metadata": {
      "needs_background": "light"
     },
     "output_type": "display_data"
    }
   ],
   "source": [
    "dot_diagram(far_left, \"Far Left\")\n",
    "# box_plot(far_left, \"Title\", [\"Far Left\"])\n",
    "dot_diagram(left_of_center, \"Left of Center\")\n",
    "# box_plot(left_of_center,\"Title\", [\"Far Left\"])\n",
    "dot_diagram(center, \"Center\")\n",
    "# box_plot(center,\"Title\", [\"Far Left\"])\n",
    "dot_diagram(right_of_center, \"Right of Center\")\n",
    "# box_plot(right_of_center,\"Title\", [\"Far Left\"])\n",
    "dot_diagram(far_right, \"Far Right\")\n",
    "# box_plot(far_right,\"Title\", [\"Far Left\"])\n"
   ]
  },
  {
   "cell_type": "code",
   "execution_count": 273,
   "id": "61ac173a",
   "metadata": {},
   "outputs": [
    {
     "data": {
      "image/png": "[encoded data removed]",
      "text/plain": [
       "<Figure size 720x216 with 1 Axes>"
      ]
     },
     "metadata": {
      "needs_background": "light"
     },
     "output_type": "display_data"
    }
   ],
   "source": [
    "box_plot([far_left, left_of_center, center, right_of_center, far_right], \"Box and Whisker Plot\", [\"Far Left\", \"Left of Center\", \"Center\", \"Right of Center\", \"Far Right\"])\n"
   ]
  },
  {
   "cell_type": "code",
   "execution_count": 274,
   "id": "2dd22dce",
   "metadata": {},
   "outputs": [
    {
     "name": "stdout",
     "output_type": "stream",
     "text": [
      "Far Left Mean: 120.0\n",
      "Left of Center Mean: 98.1\n",
      "Center Mean: 79.07407407407408\n",
      "Right of Center Mean: 113.84615384615384\n",
      "Far Right Mean: 135.0\n"
     ]
    }
   ],
   "source": [
    "print(f'{\"Far Left Mean: \"}{far_left.mean()}')\n",
    "print(f'{\"Left of Center Mean: \"}{left_of_center.mean()}')\n",
    "print(f'{\"Center Mean: \"}{center.mean()}')\n",
    "print(f'{\"Right of Center Mean: \"}{right_of_center.mean()}')\n",
    "print(f'{\"Far Right Mean: \"}{far_right.mean()}')"
   ]
  },
  {
   "cell_type": "code",
   "execution_count": 275,
   "id": "3eda2a8f",
   "metadata": {},
   "outputs": [
    {
     "name": "stdout",
     "output_type": "stream",
     "text": [
      "Far Left Standard Deviation: 84.26149773176358\n",
      "Left of Center Standard Deviation: 80.67025474113738\n",
      "Center Standard Deviation: 42.796612816753445\n",
      "Right of Center Standard Deviation: 121.43617896710263\n",
      "Far Right Standard Deviation: 65.0\n"
     ]
    }
   ],
   "source": [
    "print(f'{\"Far Left Standard Deviation: \"}{np.std(far_left)}')\n",
    "print(f'{\"Left of Center Standard Deviation: \"}{np.std(left_of_center)}')\n",
    "print(f'{\"Center Standard Deviation: \"}{np.std(center)}')\n",
    "print(f'{\"Right of Center Standard Deviation: \"}{np.std(right_of_center)}')\n",
    "print(f'{\"Far Right Standard Deviation: \"}{np.std(far_right)}')"
   ]
  },
  {
   "cell_type": "code",
   "execution_count": 276,
   "id": "b616d153",
   "metadata": {},
   "outputs": [
    {
     "name": "stdout",
     "output_type": "stream",
     "text": [
      "Far Left Median: 100.0\n",
      "Left of Center Median: 60.0\n",
      "Center Median: 80.0\n",
      "Right of Center Median: 100.0\n",
      "Far Right Median: 135.0\n"
     ]
    }
   ],
   "source": [
    "print(f'{\"Far Left Median: \"}{np.median(far_left)}')\n",
    "print(f'{\"Left of Center Median: \"}{np.median(left_of_center)}')\n",
    "print(f'{\"Center Median: \"}{np.median(center)}')\n",
    "print(f'{\"Right of Center Median: \"}{np.median(right_of_center)}')\n",
    "print(f'{\"Far Right Median: \"}{np.median(far_right)}')"
   ]
  },
  {
   "cell_type": "code",
   "execution_count": 277,
   "id": "a21cdad1",
   "metadata": {},
   "outputs": [
    {
     "name": "stdout",
     "output_type": "stream",
     "text": [
      "Far Left IQR: 40.0\n",
      "Left of Center IQR: 101.25\n",
      "Center IQR: 50.0\n",
      "Right of Center IQR: 65.0\n",
      "Far Right IQR: 65.0\n"
     ]
    }
   ],
   "source": [
    "def IQR(dist):\n",
    "    return np.percentile(dist, 75) - np.percentile(dist, 25)\n",
    "\n",
    "print(f'{\"Far Left IQR: \"}{IQR(far_left)}')\n",
    "print(f'{\"Left of Center IQR: \"}{IQR(left_of_center)}')\n",
    "print(f'{\"Center IQR: \"}{IQR(center)}')\n",
    "print(f'{\"Right of Center IQR: \"}{IQR(right_of_center)}')\n",
    "print(f'{\"Far Right IQR: \"}{IQR(far_right)}')"
   ]
  },
  {
   "cell_type": "code",
   "execution_count": 278,
   "id": "99ee8108",
   "metadata": {},
   "outputs": [
    {
     "name": "stdout",
     "output_type": "stream",
     "text": [
      "Far Left Outliers: [ 20. 200. 300.]\n",
      "Left of Center Outliers: [300. 300.]\n",
      "Center Outliers: [200. 200.]\n",
      "Right of Center Outliers: [500.]\n",
      "Far Right Outliers: []\n"
     ]
    }
   ],
   "source": [
    "def getOutliers(dist):\n",
    "    iqr = IQR(dist)\n",
    "    outliers = np.array([])\n",
    "    for data in dist:\n",
    "        if data > (1.5 * iqr + np.percentile(dist, 75)) or data < (np.percentile(dist, 25) - 1.5 * iqr):\n",
    "            outliers = np.append(outliers, data)\n",
    "    return np.sort(outliers)\n",
    "\n",
    "print(f'{\"Far Left Outliers: \"}{getOutliers(far_left)}')\n",
    "print(f'{\"Left of Center Outliers: \"}{getOutliers(left_of_center)}')\n",
    "print(f'{\"Center Outliers: \"}{getOutliers(center)}')\n",
    "print(f'{\"Right of Center Outliers: \"}{getOutliers(right_of_center)}')\n",
    "print(f'{\"Far Right Outliers: \"}{getOutliers(far_right)}')"
   ]
  }
 ],
 "metadata": {
  "kernelspec": {
   "display_name": "Python 3 (ipykernel)",
   "language": "python",
   "name": "python3"
  },
  "language_info": {
   "codemirror_mode": {
    "name": "ipython",
    "version": 3
   },
   "file_extension": ".py",
   "mimetype": "text/x-python",
   "name": "python",
   "nbconvert_exporter": "python",
   "pygments_lexer": "ipython3",
   "version": "3.9.7"
  }
 },
 "nbformat": 4,
 "nbformat_minor": 5
}
